{
 "cells": [
  {
   "cell_type": "code",
   "execution_count": 20,
   "id": "43a7d450-ed78-49d3-bafb-256769a148e8",
   "metadata": {},
   "outputs": [
    {
     "name": "stdin",
     "output_type": "stream",
     "text": [
      "Enter a user name for login: Jitha\n",
      "Enter a password (do not share this with anyone): 360\n"
     ]
    },
    {
     "name": "stdout",
     "output_type": "stream",
     "text": [
      "User added successfully\n"
     ]
    }
   ],
   "source": [
    "#Add user-id and password to file\n",
    "class AddUser:\n",
    "    def __init__(self):\n",
    "        self.UsernamePassword=self.LoadCredentials()\n",
    "        \n",
    "    def LoadCredentials(self):\n",
    "        credentials={}\n",
    "        try:\n",
    "            with open(\"User Credentials.txt\") as data:\n",
    "                for line in data:\n",
    "                    Username,Password=line.strip().split(\":\")\n",
    "                    credentials[Username]=Password\n",
    "        except FileNotFoundError:\n",
    "            pass  \n",
    "        return credentials\n",
    "                    \n",
    "    def Add_Usrname(self):\n",
    "        Username=input(\"Enter a user name for login:\")\n",
    "        Password=input(\"Enter a password (do not share this with anyone):\")\n",
    "        if Username not in self.UsernamePassword:\n",
    "            self.UsernamePassword[Username]=Password\n",
    "            print(\"User added successfully\")\n",
    "        else:\n",
    "            print(\"This user name already exist!! Please select another one\")\n",
    "            self.StoreCredentials()           \n",
    "    def StoreCredentials(self):\n",
    "        with open(\"User Credentials.txt\",\"w\") as data:\n",
    "            for Username, Password in self.UsernamePassword.items():\n",
    "                data.write(f\"{Username}:{Password}\\n\")\n",
    "\n",
    "User1=AddUser()\n",
    "User1.Add_Usrname()\n",
    "User1.StoreCredentials()"
   ]
  },
  {
   "cell_type": "code",
   "execution_count": 29,
   "id": "a35d355a-e319-4c22-ae1d-11d228bcc33c",
   "metadata": {},
   "outputs": [
    {
     "name": "stdout",
     "output_type": "stream",
     "text": [
      "Account holder name is: Shani\n"
     ]
    },
    {
     "name": "stdin",
     "output_type": "stream",
     "text": [
      "Enter your username shani\n",
      "Enter your password 456\n",
      "Enter the amount to deposit: 10000\n"
     ]
    },
    {
     "name": "stdout",
     "output_type": "stream",
     "text": [
      "Successfully deposited 10000 new balance is:10000\n"
     ]
    },
    {
     "name": "stdin",
     "output_type": "stream",
     "text": [
      "Enter your username shani\n",
      "Enter your password 456\n",
      "Enter the amount to withdraw: 1000\n"
     ]
    },
    {
     "name": "stdout",
     "output_type": "stream",
     "text": [
      "Withdrawing 1000 from account\n",
      "Balance amount is 9000\n"
     ]
    }
   ],
   "source": [
    "#Depositing and withdrawing \n",
    "class BankAccount:\n",
    "    def __init__(self,account_holder):\n",
    "        self.account_holder=account_holder\n",
    "        self.balance=0\n",
    "        self.accountNumber=0\n",
    "        self.pin=0 \n",
    "        self.credentials=self.LoadCredentials()\n",
    "    def LoadCredentials(self):\n",
    "        credentials={}\n",
    "        try:\n",
    "            with open(\"User Credentials.txt\") as data:\n",
    "                for line in data:\n",
    "                    Username,Password=line.strip().split(\":\")\n",
    "                    credentials[Username]=Password\n",
    "        except FileNotFoundError:\n",
    "            pass  \n",
    "        return credentials\n",
    "        \n",
    "    def deposit_amount(self):\n",
    "        Username=input(\"Enter your username\")\n",
    "        Password=input(\"Enter your password\")\n",
    "        if Username in self.credentials:\n",
    "            if self.credentials[Username]==Password:\n",
    "                amount=int(input(\"Enter the amount to deposit:\"))\n",
    "                if amount<0:\n",
    "                    print(\"The amount should be positive\")\n",
    "                elif amount>0:\n",
    "                    self.balance=self.balance+amount\n",
    "                    print(f\"Successfully deposited {amount} new balance is:{self.balance}\")\n",
    "            else:\n",
    "                print(\"Incorrect password\")\n",
    "        else:\n",
    "            print(\"Bad credentials\")\n",
    "    def withdraw_amount(self):\n",
    "        Username=input(\"Enter your username\")\n",
    "        Password=input(\"Enter your password\")\n",
    "        if Username in self.credentials:\n",
    "            if self.credentials[Username]==Password:\n",
    "                amount=int(input(\"Enter the amount to withdraw:\"))\n",
    "                if 0<amount<self.balance:\n",
    "                    self.balance=self.balance-amount\n",
    "                    print(f\"Withdrawing {amount} from account\")      \n",
    "                elif amount>self.balance:\n",
    "                    print(\"The amount is insufficient. You cannot withdraw\")\n",
    "                elif amount<0:\n",
    "                    print(\"The amount should be positive\")\n",
    "            else:\n",
    "                print(\"Incorrect password\")\n",
    "        else:\n",
    "            print(\"User does not exist\")\n",
    "\n",
    "    def get_balance(self):\n",
    "        print(f\"Balance amount is {self.balance}\")\n",
    "Account1=BankAccount(\"Shani\")\n",
    "print(f\"Account holder name is: {Account1.account_holder}\")\n",
    "Account1.deposit_amount()\n",
    "Account1.withdraw_amount()\n",
    "Account1.get_balance()"
   ]
  },
  {
   "cell_type": "code",
   "execution_count": null,
   "id": "5d8fae53-dbfa-442b-b44a-be831b957970",
   "metadata": {},
   "outputs": [],
   "source": []
  }
 ],
 "metadata": {
  "kernelspec": {
   "display_name": "Python 3 (ipykernel)",
   "language": "python",
   "name": "python3"
  },
  "language_info": {
   "codemirror_mode": {
    "name": "ipython",
    "version": 3
   },
   "file_extension": ".py",
   "mimetype": "text/x-python",
   "name": "python",
   "nbconvert_exporter": "python",
   "pygments_lexer": "ipython3",
   "version": "3.12.4"
  }
 },
 "nbformat": 4,
 "nbformat_minor": 5
}
